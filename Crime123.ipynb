{
 "metadata": {
  "name": "Crime123"
 },
 "nbformat": 3,
 "nbformat_minor": 0,
 "worksheets": [
  {
   "cells": [
    {
     "cell_type": "markdown",
     "metadata": {},
     "source": [
      "This project aims at analyzing Crime Data of SanFrancisco for the year 2012. The crime data is downloaded from \"\". It is in csv format. I have divided the city into neighborhoods, the data for neighborhood boundaries is downloaded in the form of a shapefile from   https://data.sfgov.org/Geography/Planning-Neighborhoods/qc6m-r4ih. The next step was to overlay the neighborhoods on the google map. I installed GSL, GDAL and QGIS and used ogr2ogr to convert the shape file into a kml file. \n",
      "    "
     ]
    },
    {
     "cell_type": "code",
     "collapsed": false,
     "input": [
      "#Note: Do not rerun for demo, it will slow things down.\n",
      "import os,subprocess\n",
      "from subprocess import Popen, PIPE\n",
      "\n",
      "path='/Users/sanghamitradeb/JSites/NeighborhoodfinalKML/'\n",
      "path0='/Users/sanghamitradeb/JSites/NeighborhoodKML/'\n",
      "pathjson='/Users/sanghamitradeb/JSites/NeighborhoodJSON/'\n",
      "files=os.listdir(path0)\n",
      "\n",
      "\n",
      "for line in files:\n",
      "    #print line\n",
      "    if \".shp\" in line:    \n",
      "        \n",
      "        fname=(line[35:-3]).replace(\" \",\"_\")+'kml'\n",
      "        fnamejson=(line[35:-3]).replace(\" \",\"_\")+'json'\n",
      "        fin=line.replace(\" \",\"\\ \")\n",
      "        command='ogr2ogr -f \"KML\" %s %s'%(path+fname,path0+fin)\n",
      "        command1='ogr2ogr -f \"GeoJSON\" %s %s'%(pathjson+fnamejson,path0+fin)\n",
      "        proc=subprocess.call(command,shell=True,stdout=PIPE)\n",
      "        proc1=subprocess.call(command1,shell=True,stdout=PIPE)"
     ],
     "language": "python",
     "metadata": {},
     "outputs": [],
     "prompt_number": 2
    },
    {
     "cell_type": "markdown",
     "metadata": {},
     "source": [
      "Now that I neighborhoods in GeoJSON format I will feed them to Crime1.5.html to overlay them on google map. The map is \n",
      "rendered in http://www.hep.anl.gov/sdeb/MapPrac/JSites/Crime1.5.html. The crime in each neighborhood is represented in a \n",
      "pie chart. We now move on slice and dice the data to make it ready for a d3 plot. \n"
     ]
    },
    {
     "cell_type": "code",
     "collapsed": false,
     "input": [
      "import pandas as pd\n",
      "data = pd.read_csv('sfpd_incident_2012.csv')"
     ],
     "language": "python",
     "metadata": {},
     "outputs": [],
     "prompt_number": 3
    },
    {
     "cell_type": "markdown",
     "metadata": {},
     "source": [
      "Given a point (x,y) and the co-ordinates of a ploygon the function point_inside_polygon(x,y,poly) calculates whether the point \n",
      "lies inside the polygon. For this particular problem the polygon data consists of co-ordinates of\n",
      "each neighborhood in json format."
     ]
    },
    {
     "cell_type": "code",
     "collapsed": false,
     "input": [
      "def point_inside_polygon(x,y,poly):\n",
      "\n",
      "    n = len(poly)\n",
      "    #print n\n",
      "    inside =False\n",
      "\n",
      "    p1x,p1y = poly[0]\n",
      "    for i in range(n+1):\n",
      "        p2x,p2y = poly[i % n]\n",
      "        #print p2x,p2y\n",
      "        if y > min(p1y,p2y):\n",
      "            if y <= max(p1y,p2y):\n",
      "                if x <= max(p1x,p2x):\n",
      "                    if p1y != p2y:\n",
      "                        xinters = (y-p1y)*(p2x-p1x)/(p2y-p1y)+p1x\n",
      "                    if p1x == p2x or x <= xinters:\n",
      "                        inside = not inside\n",
      "        p1x,p1y = p2x,p2y\n",
      "\n",
      "    return inside\n"
     ],
     "language": "python",
     "metadata": {},
     "outputs": [],
     "prompt_number": 4
    },
    {
     "cell_type": "markdown",
     "metadata": {},
     "source": [
      "Inorder to find out the different Types of crime I categorize them."
     ]
    },
    {
     "cell_type": "code",
     "collapsed": false,
     "input": [
      "byCategory=data.groupby('Category')\n",
      "Type=byCategory.size().index"
     ],
     "language": "python",
     "metadata": {},
     "outputs": [],
     "prompt_number": 5
    },
    {
     "cell_type": "markdown",
     "metadata": {},
     "source": [
      "We add another key \"month\" to the datafile."
     ]
    },
    {
     "cell_type": "code",
     "collapsed": false,
     "input": [
      "import datetime,time\n",
      "nm=12\n",
      "m=numpy.zeros(nm,dtype='double')\n",
      "mnth=[]\n",
      "for i in xrange(len(data)):\n",
      "    mnth+=[time.strptime(data.Date[i],'%m/%d/%Y').tm_mon]\n",
      "    for j in xrange(nm):\n",
      "        if (time.strptime(data.Date[i],'%m/%d/%Y').tm_mon-1==j):\n",
      "            m[j]+=1\n",
      "mnth=numpy.array(mnth)\n",
      "from pandas import Series\n",
      "data['month']=Series(mnth,index=data.index)"
     ],
     "language": "python",
     "metadata": {},
     "outputs": [],
     "prompt_number": 6
    },
    {
     "cell_type": "markdown",
     "metadata": {},
     "source": [
      "Now we figure divide the crimes according to neighborhoods. Since this is a demo, we only go through 100 entries."
     ]
    },
    {
     "cell_type": "code",
     "collapsed": false,
     "input": [
      "import os,json\n",
      "pathNeib='/Users/sanghamitradeb/JSites/NeighborhoodJSON/'\n",
      "files=os.listdir(pathNeib) \n",
      "neib=[]\n",
      "for i in xrange(100):\n",
      "    c=0\n",
      "    for j in xrange(len(files)):\n",
      "        PolyData=json.load(open(pathNeib+files[j]))\n",
      "        if (PolyData['features'][0]['geometry']['type']=='Polygon'):\n",
      "            dct=PolyData['features'][0]['geometry']['coordinates'][0]\n",
      "            outp=point_inside_polygon(data.X[i],data.Y[i],dct)\n",
      "        else:\n",
      "            for dct in PolyData['features'][0]['geometry']['coordinates'][:][0]:\n",
      "                outp=point_inside_polygon(data.X[i],data.Y[i],dct)\n",
      "    \n",
      "        if (outp==True and c!=1):\n",
      "            neib+=[files[j][:-5]]\n",
      "            c+=1\n",
      "            j=len(files)\n",
      "    #print c\n",
      "\n",
      "    if(c==0):\n",
      "        neib+=[\"NotKnown\"]"
     ],
     "language": "python",
     "metadata": {},
     "outputs": [],
     "prompt_number": 10
    },
    {
     "cell_type": "code",
     "collapsed": false,
     "input": [
      "import io\n",
      "dataNew=data.ix[0:99]\n",
      "dataNew['Neighborhood']=Series(neib,index=dataNew.index)\n",
      "disCategory=dataNew.groupby(['Neighborhood','Category','month'])\n",
      "dictOut=[]\n",
      "    \n",
      "    \n",
      "aggCount=disCategory.size()\n",
      "for i in xrange(len(files)):\n",
      "    for j in xrange(len(Type)):\n",
      "        sum=0\n",
      "        tuptup=[]\n",
      "        dictid={}\n",
      "        dictid[\"name\"]=files[i][:-5]\n",
      "        dictid[\"Ctype\"]=Type[j]\n",
      "            \n",
      "        dictid[\"CrimeID\"]=int(j)\n",
      "        for k in xrange(12):\n",
      "            #if (aggCount.contains_key([Type[j]]) and aggCount.contains_key(k+1)):\n",
      "\n",
      "            try:   \n",
      "                sum+=aggCount[files[i][:-5]][Type[j]][k+1]\n",
      "                tuptup+=[[k,int(aggCount[files[i][:-5]][Type[j]][k+1])]]\n",
      "            except:\n",
      "                tuptup+=[[k,0]]\n",
      "        dictid[\"total\"]=int(sum)\n",
      "        dictid[\"index\"]=tuptup    \n",
      "        dictOut+=[dictid]\n",
      "\n",
      "with io.open('crimed3demo.json', 'w', encoding='utf-8') as f:\n",
      "    f.write(unicode(json.dumps(dictOut, ensure_ascii=False)))"
     ],
     "language": "python",
     "metadata": {},
     "outputs": [],
     "prompt_number": 11
    },
    {
     "cell_type": "markdown",
     "metadata": {},
     "source": [
      "The resulting json file has a lot of information. In d3 we represent 5 different quantities in a 2D graph. I have chosen to use Total Number of Crimes, Number of Burglaries,  Number of another type of crime, say Arson,Neighborhood and Month. To do this we "
     ]
    },
    {
     "cell_type": "code",
     "collapsed": false,
     "input": [],
     "language": "python",
     "metadata": {},
     "outputs": []
    }
   ],
   "metadata": {}
  }
 ]
}