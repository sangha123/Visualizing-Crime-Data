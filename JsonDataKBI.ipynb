{
 "metadata": {
  "name": "JsonDataKBI"
 },
 "nbformat": 3,
 "nbformat_minor": 0,
 "worksheets": [
  {
   "cells": [
    {
     "cell_type": "code",
     "collapsed": false,
     "input": [
      "import json"
     ],
     "language": "python",
     "metadata": {},
     "outputs": [],
     "prompt_number": 16
    },
    {
     "cell_type": "code",
     "collapsed": false,
     "input": [
      "rec=json.load(open(\"crimed3.json\"))"
     ],
     "language": "python",
     "metadata": {},
     "outputs": [],
     "prompt_number": 17
    },
    {
     "cell_type": "code",
     "collapsed": false,
     "input": [
      "from pandas import DataFrame,Series\n",
      "import numpy,scipy\n",
      "recFrame=DataFrame(rec)"
     ],
     "language": "python",
     "metadata": {},
     "outputs": [],
     "prompt_number": 18
    },
    {
     "cell_type": "code",
     "collapsed": false,
     "input": [
      "recFrame=recFrame.rename(columns={'index':'IDData'})"
     ],
     "language": "python",
     "metadata": {},
     "outputs": [],
     "prompt_number": 19
    },
    {
     "cell_type": "code",
     "collapsed": false,
     "input": [
      "id1=numpy.where(recFrame.Ctype=='BURGLARY')\n",
      "id2=numpy.where(recFrame.Ctype=='ARSON')\n",
      "id3=numpy.where(recFrame.Ctype=='DRUNKENNESS')\n",
      "id4=numpy.where(recFrame.Ctype=='ASSAULT')\n",
      "id5=numpy.where(recFrame.Ctype=='DRUG/NARCOTIC')"
     ],
     "language": "python",
     "metadata": {},
     "outputs": [],
     "prompt_number": 26
    },
    {
     "cell_type": "code",
     "collapsed": false,
     "input": [
      "import io\n",
      "dictOut=[]\n",
      "for i in xrange(len(id1[0])):\n",
      "    dict={}\n",
      "    dict['name']=recFrame.name[id1[0][i]]\n",
      "    dict['indexBURGLARY']=recFrame.IDData[id1[0][i]]\n",
      "    dict['DRUNKENNESS']=recFrame.IDData[id3[0][i]]\n",
      "    dict['ARSON']=recFrame.IDData[id2[0][i]]\n",
      "    dict['ASSAULT']=recFrame.IDData[id4[0][i]]\n",
      "    dict['DRUG']=recFrame.IDData[id5[0][i]]\n",
      "    dict['total']=int(recFrame.total[id1[0][i]])\n",
      "    dict['color']=int(i)\n",
      "    dictOut+=[dict]\n",
      "    \n",
      "with io.open('crimed2D.json', 'w', encoding='utf-8') as f:\n",
      "    f.write(unicode(json.dumps(dictOut, ensure_ascii=False)))    "
     ],
     "language": "python",
     "metadata": {},
     "outputs": [],
     "prompt_number": 27
    },
    {
     "cell_type": "code",
     "collapsed": false,
     "input": [
      "recFrame.IDData[0]"
     ],
     "language": "python",
     "metadata": {},
     "outputs": [
      {
       "output_type": "pyout",
       "prompt_number": 22,
       "text": [
        "[[0, 4],\n",
        " [1, 2],\n",
        " [2, 1],\n",
        " [3, 0],\n",
        " [4, 2],\n",
        " [5, 8],\n",
        " [6, 5],\n",
        " [7, 5],\n",
        " [8, 4],\n",
        " [9, 2],\n",
        " [10, 3],\n",
        " [11, 4]]"
       ]
      }
     ],
     "prompt_number": 22
    },
    {
     "cell_type": "code",
     "collapsed": false,
     "input": [],
     "language": "python",
     "metadata": {},
     "outputs": [],
     "prompt_number": 22
    }
   ],
   "metadata": {}
  }
 ]
}